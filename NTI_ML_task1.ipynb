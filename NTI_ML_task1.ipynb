{
 "cells": [
  {
   "cell_type": "code",
   "execution_count": 1,
   "id": "450ab6e5",
   "metadata": {},
   "outputs": [
    {
     "name": "stdout",
     "output_type": "stream",
     "text": [
      "<class 'int'>\n",
      "<class 'float'>\n",
      "<class 'str'>\n",
      "<class 'bool'>\n",
      "<class 'NoneType'>\n",
      "<class 'complex'>\n"
     ]
    }
   ],
   "source": [
    "# 1\n",
    "# •Create a variable for each of the following data types: \n",
    "# integer, float, string, boolean, NoneType, and complex number. \n",
    "# Then print the type of each variable.\n",
    "\n",
    "integer = 5\n",
    "print(type(integer))\n",
    "float0 = 4.4\n",
    "print(type(float0))\n",
    "string = 'mahmoud'\n",
    "print(type(string))\n",
    "boolean = True\n",
    "print(type(boolean))\n",
    "none = None\n",
    "print(type(none))\n",
    "comp = 3 + 5j\n",
    "print(type(comp))"
   ]
  },
  {
   "cell_type": "code",
   "execution_count": 2,
   "id": "253bbd5f",
   "metadata": {},
   "outputs": [
    {
     "name": "stdout",
     "output_type": "stream",
     "text": [
      "the sum of list = 45, the maximum number is 9, the average = 4.5\n"
     ]
    }
   ],
   "source": [
    "# 2\n",
    "# •Create a list of 10 integers. Write a Python function to calculate and return \n",
    "# the sum, average, and the maximum number in the list.\n",
    "\n",
    "integers = [1,2,3,4,5,6,7,8,9,0]\n",
    "def stats(integers):\n",
    "    s=sum(integers)\n",
    "    m=max(integers)\n",
    "    a=s/len(integers)\n",
    "    print(f'the sum of list = {s}, the maximum number is {m}, the average = {a}')\n",
    "stats(integers)"
   ]
  },
  {
   "cell_type": "code",
   "execution_count": 3,
   "id": "9e636210",
   "metadata": {},
   "outputs": [
    {
     "name": "stdout",
     "output_type": "stream",
     "text": [
      "titled -----> islp\n",
      "author -----> mahmoud\n",
      "publication year -----> 2020\n",
      "genre -----> science\n",
      "ISBN -----> 23534535\n"
     ]
    }
   ],
   "source": [
    "# 3\n",
    "# •Create a dictionary that stores information about a book \n",
    "# (title, author, publication year, genre). \n",
    "# Write a Python program that updates the publication year and adds a new key for the ISBN number.\n",
    "\n",
    "books = {'titled':'islp', 'author':'mahmoud', 'publication year': 2020, 'genre': 'science'}\n",
    "books['ISBN'] = 23534535\n",
    "for i, j in books.items():\n",
    "    print(f'{i} -----> {j}')"
   ]
  },
  {
   "cell_type": "code",
   "execution_count": 4,
   "id": "240139b8",
   "metadata": {},
   "outputs": [
    {
     "name": "stdout",
     "output_type": "stream",
     "text": [
      "Hello mahmoud, Welcome to cairo.\n"
     ]
    }
   ],
   "source": [
    "# 4\n",
    "# •Write a Python program that takes a string with placeholders \n",
    "# (e.g., \"Hello {name}, welcome to {place}\") and uses \n",
    "# str.format() to fill in the placeholders with values.\n",
    "\n",
    "name = 'mahmoud'\n",
    "place = 'cairo'\n",
    "print('Hello {}, Welcome to {}.'.format(name,place))"
   ]
  },
  {
   "cell_type": "code",
   "execution_count": 5,
   "id": "ed359a8c",
   "metadata": {},
   "outputs": [
    {
     "name": "stdout",
     "output_type": "stream",
     "text": [
      "y is grater than x.\n"
     ]
    }
   ],
   "source": [
    "# 5\n",
    "# •Write a function that takes two arguments and returns whether \n",
    "# the first number is greater than, less than, or equal to the second number. \n",
    "# Use comparison operators and logical operators. \n",
    "\n",
    "def function(x,y):\n",
    "    if x > y:\n",
    "        print('x is grater than y.')\n",
    "    elif x < y:\n",
    "        print('y is grater than x.')\n",
    "    else:\n",
    "        print('x equal y')\n",
    "        \n",
    "function(5,10)"
   ]
  },
  {
   "cell_type": "code",
   "execution_count": 6,
   "id": "ffe685b8",
   "metadata": {},
   "outputs": [
    {
     "name": "stdout",
     "output_type": "stream",
     "text": [
      "[9, 8, 7, 6, 5, 4, 3, 2, 1]\n"
     ]
    }
   ],
   "source": [
    "# 6\n",
    "# •Given a tuple of integers, convert it into a list. \n",
    "# Then, sort the list in descending order and print the result.\n",
    "\n",
    "T = (1,2,3,4,5,6,7,8,9)\n",
    "l = list(T)\n",
    "l.sort(reverse=True)\n",
    "print(l)"
   ]
  },
  {
   "cell_type": "code",
   "execution_count": 7,
   "id": "47df3024",
   "metadata": {
    "scrolled": true
   },
   "outputs": [
    {
     "name": "stdout",
     "output_type": "stream",
     "text": [
      "Enter your gpa, please: 3\n",
      "how many days did you attend: 15\n",
      "you are passed.\n"
     ]
    }
   ],
   "source": [
    "# 7\n",
    "# •Write a Python program that evaluates if a student has passed or failed based on the GPA \n",
    "# (greater than or equal to 2.0 is passing). \n",
    "# Take into account whether the student has attended at least 75% of the classes.\n",
    "\n",
    "gpa = float(input('Enter your gpa, please: '))\n",
    "attend = int(input('how many days did you attend: '))\n",
    "attend_percentage = attend / 20 * 100\n",
    "attend_percentage\n",
    "if gpa >= 2 and attend_percentage >=75:\n",
    "    print('you are passed.')\n",
    "else:\n",
    "    print('you are failed.')"
   ]
  },
  {
   "cell_type": "code",
   "execution_count": 8,
   "id": "c9139489",
   "metadata": {},
   "outputs": [
    {
     "name": "stdout",
     "output_type": "stream",
     "text": [
      "Enter Your Age: 33\n",
      "Adult\n"
     ]
    }
   ],
   "source": [
    "# 8\n",
    "# •Create a program that takes the user’s age as input \n",
    "# and categorizes them into one of the following age groups: \n",
    "# Child (0-12), Teenager (13-19), Adult (20-64), Senior (65+).\n",
    "\n",
    "age = int(input(\"Enter Your Age: \"))\n",
    "if 0 <= age <= 12:\n",
    "    print(\"Child\")\n",
    "elif 13 <= age <= 19:\n",
    "    print(\"Teenager\")\n",
    "elif 20 <= age <= 64:\n",
    "    print(\"Adult\")\n",
    "elif age >= 65:\n",
    "    print(\"Senior\")\n",
    "else:\n",
    "    print(\"Please enter a positive number\")"
   ]
  },
  {
   "cell_type": "code",
   "execution_count": 9,
   "id": "5a8d29f5",
   "metadata": {},
   "outputs": [
    {
     "name": "stdout",
     "output_type": "stream",
     "text": [
      "union: {1, 2, 3, 5, 7, 8}\n",
      "intersection: {3, 5}\n",
      "diffrence: {1, 2}\n"
     ]
    }
   ],
   "source": [
    "# 9\n",
    "# •Create two sets containing integers. \n",
    "# Find and print the union, intersection, and difference of the sets.\n",
    "\n",
    "a = {1,2,3,5}\n",
    "b = {3,5,7,8}\n",
    "print(f'union: {a | b}')\n",
    "print(f'intersection: {a & b}')\n",
    "print(f\"diffrence: {a - b}\")"
   ]
  },
  {
   "cell_type": "code",
   "execution_count": 10,
   "id": "21604c30",
   "metadata": {},
   "outputs": [
    {
     "name": "stdout",
     "output_type": "stream",
     "text": [
      "avrage gpa is 3.6\n"
     ]
    }
   ],
   "source": [
    "#10\n",
    "# •Create a list of dictionaries where each dictionary contains details about a student \n",
    "# (name, age, GPA). \n",
    "# Write a function to calculate the average GPA of all the students in the list.\n",
    "\n",
    "students = [\n",
    "    {\"name\": \"osama\", \"age\": 20, \"GPA\": 3.5},\n",
    "    {\"name\": \"faisal\", \"age\": 22, \"GPA\": 3.8},\n",
    "    {\"name\": \"gana\", \"age\": 19, \"GPA\": 3.2},\n",
    "    {\"name\": \"Mahmoud\", \"age\": 21, \"GPA\": 3.9}\n",
    "]\n",
    "\n",
    "def gpa_cal(list):\n",
    "    sumation = 0\n",
    "    for i in range(len(list)):\n",
    "        sumation = sumation + (list[i]['GPA'])\n",
    "        avr = sumation / len(list)\n",
    "    print(f'avrage gpa is {avr}')\n",
    "gpa_cal(students)"
   ]
  }
 ],
 "metadata": {
  "kernelspec": {
   "display_name": "Python 3 (ipykernel)",
   "language": "python",
   "name": "python3"
  },
  "language_info": {
   "codemirror_mode": {
    "name": "ipython",
    "version": 3
   },
   "file_extension": ".py",
   "mimetype": "text/x-python",
   "name": "python",
   "nbconvert_exporter": "python",
   "pygments_lexer": "ipython3",
   "version": "3.12.2"
  }
 },
 "nbformat": 4,
 "nbformat_minor": 5
}
